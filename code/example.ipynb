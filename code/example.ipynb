{
 "cells": [
  {
   "cell_type": "code",
   "execution_count": 1,
   "metadata": {
    "ExecuteTime": {
     "end_time": "2021-11-28T17:41:12.321761Z",
     "start_time": "2021-11-28T17:41:08.064664Z"
    }
   },
   "outputs": [],
   "source": [
    "import numpy as np\n",
    "from matplotlib import pyplot as plt"
   ]
  },
  {
   "cell_type": "code",
   "execution_count": 4,
   "metadata": {
    "ExecuteTime": {
     "end_time": "2022-04-16T10:33:23.473218Z",
     "start_time": "2022-04-16T10:33:23.054458Z"
    }
   },
   "outputs": [],
   "source": [
    "from visualization import visualize_data"
   ]
  },
  {
   "cell_type": "code",
   "execution_count": 3,
   "metadata": {
    "ExecuteTime": {
     "end_time": "2022-04-16T10:32:55.315677Z",
     "start_time": "2022-04-16T10:32:55.309545Z"
    }
   },
   "outputs": [],
   "source": [
    "visualize_data(x_train, x_test)"
   ]
  },
  {
   "cell_type": "code",
   "execution_count": 6,
   "metadata": {
    "ExecuteTime": {
     "end_time": "2022-04-18T06:07:11.997949Z",
     "start_time": "2022-04-18T06:07:11.979021Z"
    }
   },
   "outputs": [],
   "source": [
    "import pickle\n",
    "TRAIN_DATASET_PATH = \"../data/train_data.pickle\"\n",
    "TEST_DATASET_PATH = \"../data/test_data.pickle\"\n",
    "\n",
    "with open(TRAIN_DATASET_PATH, 'rb') as f:\n",
    "    train_data = pickle.load(f)\n",
    "with open(TEST_DATASET_PATH, 'rb') as f:\n",
    "    test_data = pickle.load(f)"
   ]
  },
  {
   "cell_type": "code",
   "execution_count": 7,
   "metadata": {
    "ExecuteTime": {
     "end_time": "2022-04-18T06:07:16.599546Z",
     "start_time": "2022-04-18T06:07:16.586573Z"
    }
   },
   "outputs": [],
   "source": [
    "[x_train, xt_train, y_train] = train_data"
   ]
  },
  {
   "cell_type": "code",
   "execution_count": 13,
   "metadata": {
    "ExecuteTime": {
     "end_time": "2022-04-18T06:07:37.072375Z",
     "start_time": "2022-04-18T06:07:37.061129Z"
    }
   },
   "outputs": [
    {
     "data": {
      "text/plain": [
       "(1500, 4)"
      ]
     },
     "execution_count": 13,
     "metadata": {},
     "output_type": "execute_result"
    }
   ],
   "source": [
    "x_train.shape"
   ]
  },
  {
   "cell_type": "code",
   "execution_count": 12,
   "metadata": {
    "ExecuteTime": {
     "end_time": "2022-04-18T06:07:31.547920Z",
     "start_time": "2022-04-18T06:07:31.528795Z"
    }
   },
   "outputs": [
    {
     "data": {
      "text/plain": [
       "(1500, 4)"
      ]
     },
     "execution_count": 12,
     "metadata": {},
     "output_type": "execute_result"
    }
   ],
   "source": [
    "train_data[0].shape"
   ]
  }
 ],
 "metadata": {
  "kernelspec": {
   "display_name": "Python 3",
   "language": "python",
   "name": "python3"
  },
  "language_info": {
   "codemirror_mode": {
    "name": "ipython",
    "version": 3
   },
   "file_extension": ".py",
   "mimetype": "text/x-python",
   "name": "python",
   "nbconvert_exporter": "python",
   "pygments_lexer": "ipython3",
   "version": "3.7.2"
  }
 },
 "nbformat": 4,
 "nbformat_minor": 2
}
